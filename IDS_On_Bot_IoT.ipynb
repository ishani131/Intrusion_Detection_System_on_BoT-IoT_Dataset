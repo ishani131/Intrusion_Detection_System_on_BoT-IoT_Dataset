{
  "nbformat": 4,
  "nbformat_minor": 0,
  "metadata": {
    "colab": {
      "provenance": []
    },
    "kernelspec": {
      "name": "python3",
      "display_name": "Python 3"
    },
    "language_info": {
      "name": "python"
    }
  },
  "cells": [
    {
      "cell_type": "code",
      "source": [
        "from google.colab import drive\n",
        "drive.mount('/content/drive')"
      ],
      "metadata": {
        "id": "lD_fuEF77ET1",
        "colab": {
          "base_uri": "https://localhost:8080/"
        },
        "outputId": "249c49e1-de16-4610-8863-a0c09f079d30"
      },
      "execution_count": null,
      "outputs": [
        {
          "output_type": "stream",
          "name": "stdout",
          "text": [
            "Drive already mounted at /content/drive; to attempt to forcibly remount, call drive.mount(\"/content/drive\", force_remount=True).\n"
          ]
        }
      ]
    },
    {
      "cell_type": "code",
      "execution_count": null,
      "metadata": {
        "id": "WSKxbSb0t4hC"
      },
      "outputs": [],
      "source": [
        "import pandas as pd\n",
        "import numpy as np\n",
        "import seaborn as sns\n",
        "import sklearn\n",
        "import warnings; warnings.simplefilter('ignore')\n",
        "from sklearn.preprocessing import StandardScaler"
      ]
    },
    {
      "cell_type": "code",
      "source": [
        "data_train=pd.read_csv(\"/content/drive/MyDrive/dmt_da/UNSW_2018_IoT_Botnet_Final_10_best_Training.csv\")"
      ],
      "metadata": {
        "id": "jcvSPAvqudKZ"
      },
      "execution_count": null,
      "outputs": []
    },
    {
      "cell_type": "code",
      "source": [
        "data_test=pd.read_csv(\"/content/drive/MyDrive/dmt_da/UNSW_2018_IoT_Botnet_Final_10_best_Testing.csv\")"
      ],
      "metadata": {
        "id": "0WQW4e5XueMs"
      },
      "execution_count": null,
      "outputs": []
    },
    {
      "cell_type": "code",
      "source": [
        "data_train.head()"
      ],
      "metadata": {
        "id": "VOZTRdDMueS_",
        "colab": {
          "base_uri": "https://localhost:8080/",
          "height": 206
        },
        "outputId": "c26981a6-1ad1-4257-da06-0e0577d09a8b"
      },
      "execution_count": null,
      "outputs": [
        {
          "output_type": "execute_result",
          "data": {
            "text/plain": [
              "   pkSeqID proto            saddr  sport          daddr dport     seq  \\\n",
              "0  3142762   udp  192.168.100.150   6551  192.168.100.3    80  251984   \n",
              "1  2432264   tcp  192.168.100.150   5532  192.168.100.3    80  256724   \n",
              "2  1976315   tcp  192.168.100.147  27165  192.168.100.3    80   62921   \n",
              "3  1240757   udp  192.168.100.150  48719  192.168.100.3    80   99168   \n",
              "4  3257991   udp  192.168.100.147  22461  192.168.100.3    80  105063   \n",
              "\n",
              "     stddev  N_IN_Conn_P_SrcIP       min  state_number      mean  \\\n",
              "0  1.900363                100  0.000000             4  2.687519   \n",
              "1  0.078003                 38  3.856930             3  3.934927   \n",
              "2  0.268666                100  2.974100             3  3.341429   \n",
              "3  1.823185                 63  0.000000             4  3.222832   \n",
              "4  0.822418                100  2.979995             4  3.983222   \n",
              "\n",
              "   N_IN_Conn_P_DstIP  drate     srate       max  attack category subcategory  \n",
              "0                100    0.0  0.494549  4.031619       1     DDoS         UDP  \n",
              "1                100    0.0  0.256493  4.012924       1     DDoS         TCP  \n",
              "2                100    0.0  0.294880  3.609205       1     DDoS         TCP  \n",
              "3                 63    0.0  0.461435  4.942302       1      DoS         UDP  \n",
              "4                100    0.0  1.002999  4.994452       1     DDoS         UDP  "
            ],
            "text/html": [
              "\n",
              "  <div id=\"df-b52c804f-684e-4e87-a498-b849f8c254bd\">\n",
              "    <div class=\"colab-df-container\">\n",
              "      <div>\n",
              "<style scoped>\n",
              "    .dataframe tbody tr th:only-of-type {\n",
              "        vertical-align: middle;\n",
              "    }\n",
              "\n",
              "    .dataframe tbody tr th {\n",
              "        vertical-align: top;\n",
              "    }\n",
              "\n",
              "    .dataframe thead th {\n",
              "        text-align: right;\n",
              "    }\n",
              "</style>\n",
              "<table border=\"1\" class=\"dataframe\">\n",
              "  <thead>\n",
              "    <tr style=\"text-align: right;\">\n",
              "      <th></th>\n",
              "      <th>pkSeqID</th>\n",
              "      <th>proto</th>\n",
              "      <th>saddr</th>\n",
              "      <th>sport</th>\n",
              "      <th>daddr</th>\n",
              "      <th>dport</th>\n",
              "      <th>seq</th>\n",
              "      <th>stddev</th>\n",
              "      <th>N_IN_Conn_P_SrcIP</th>\n",
              "      <th>min</th>\n",
              "      <th>state_number</th>\n",
              "      <th>mean</th>\n",
              "      <th>N_IN_Conn_P_DstIP</th>\n",
              "      <th>drate</th>\n",
              "      <th>srate</th>\n",
              "      <th>max</th>\n",
              "      <th>attack</th>\n",
              "      <th>category</th>\n",
              "      <th>subcategory</th>\n",
              "    </tr>\n",
              "  </thead>\n",
              "  <tbody>\n",
              "    <tr>\n",
              "      <th>0</th>\n",
              "      <td>3142762</td>\n",
              "      <td>udp</td>\n",
              "      <td>192.168.100.150</td>\n",
              "      <td>6551</td>\n",
              "      <td>192.168.100.3</td>\n",
              "      <td>80</td>\n",
              "      <td>251984</td>\n",
              "      <td>1.900363</td>\n",
              "      <td>100</td>\n",
              "      <td>0.000000</td>\n",
              "      <td>4</td>\n",
              "      <td>2.687519</td>\n",
              "      <td>100</td>\n",
              "      <td>0.0</td>\n",
              "      <td>0.494549</td>\n",
              "      <td>4.031619</td>\n",
              "      <td>1</td>\n",
              "      <td>DDoS</td>\n",
              "      <td>UDP</td>\n",
              "    </tr>\n",
              "    <tr>\n",
              "      <th>1</th>\n",
              "      <td>2432264</td>\n",
              "      <td>tcp</td>\n",
              "      <td>192.168.100.150</td>\n",
              "      <td>5532</td>\n",
              "      <td>192.168.100.3</td>\n",
              "      <td>80</td>\n",
              "      <td>256724</td>\n",
              "      <td>0.078003</td>\n",
              "      <td>38</td>\n",
              "      <td>3.856930</td>\n",
              "      <td>3</td>\n",
              "      <td>3.934927</td>\n",
              "      <td>100</td>\n",
              "      <td>0.0</td>\n",
              "      <td>0.256493</td>\n",
              "      <td>4.012924</td>\n",
              "      <td>1</td>\n",
              "      <td>DDoS</td>\n",
              "      <td>TCP</td>\n",
              "    </tr>\n",
              "    <tr>\n",
              "      <th>2</th>\n",
              "      <td>1976315</td>\n",
              "      <td>tcp</td>\n",
              "      <td>192.168.100.147</td>\n",
              "      <td>27165</td>\n",
              "      <td>192.168.100.3</td>\n",
              "      <td>80</td>\n",
              "      <td>62921</td>\n",
              "      <td>0.268666</td>\n",
              "      <td>100</td>\n",
              "      <td>2.974100</td>\n",
              "      <td>3</td>\n",
              "      <td>3.341429</td>\n",
              "      <td>100</td>\n",
              "      <td>0.0</td>\n",
              "      <td>0.294880</td>\n",
              "      <td>3.609205</td>\n",
              "      <td>1</td>\n",
              "      <td>DDoS</td>\n",
              "      <td>TCP</td>\n",
              "    </tr>\n",
              "    <tr>\n",
              "      <th>3</th>\n",
              "      <td>1240757</td>\n",
              "      <td>udp</td>\n",
              "      <td>192.168.100.150</td>\n",
              "      <td>48719</td>\n",
              "      <td>192.168.100.3</td>\n",
              "      <td>80</td>\n",
              "      <td>99168</td>\n",
              "      <td>1.823185</td>\n",
              "      <td>63</td>\n",
              "      <td>0.000000</td>\n",
              "      <td>4</td>\n",
              "      <td>3.222832</td>\n",
              "      <td>63</td>\n",
              "      <td>0.0</td>\n",
              "      <td>0.461435</td>\n",
              "      <td>4.942302</td>\n",
              "      <td>1</td>\n",
              "      <td>DoS</td>\n",
              "      <td>UDP</td>\n",
              "    </tr>\n",
              "    <tr>\n",
              "      <th>4</th>\n",
              "      <td>3257991</td>\n",
              "      <td>udp</td>\n",
              "      <td>192.168.100.147</td>\n",
              "      <td>22461</td>\n",
              "      <td>192.168.100.3</td>\n",
              "      <td>80</td>\n",
              "      <td>105063</td>\n",
              "      <td>0.822418</td>\n",
              "      <td>100</td>\n",
              "      <td>2.979995</td>\n",
              "      <td>4</td>\n",
              "      <td>3.983222</td>\n",
              "      <td>100</td>\n",
              "      <td>0.0</td>\n",
              "      <td>1.002999</td>\n",
              "      <td>4.994452</td>\n",
              "      <td>1</td>\n",
              "      <td>DDoS</td>\n",
              "      <td>UDP</td>\n",
              "    </tr>\n",
              "  </tbody>\n",
              "</table>\n",
              "</div>\n",
              "      <button class=\"colab-df-convert\" onclick=\"convertToInteractive('df-b52c804f-684e-4e87-a498-b849f8c254bd')\"\n",
              "              title=\"Convert this dataframe to an interactive table.\"\n",
              "              style=\"display:none;\">\n",
              "        \n",
              "  <svg xmlns=\"http://www.w3.org/2000/svg\" height=\"24px\"viewBox=\"0 0 24 24\"\n",
              "       width=\"24px\">\n",
              "    <path d=\"M0 0h24v24H0V0z\" fill=\"none\"/>\n",
              "    <path d=\"M18.56 5.44l.94 2.06.94-2.06 2.06-.94-2.06-.94-.94-2.06-.94 2.06-2.06.94zm-11 1L8.5 8.5l.94-2.06 2.06-.94-2.06-.94L8.5 2.5l-.94 2.06-2.06.94zm10 10l.94 2.06.94-2.06 2.06-.94-2.06-.94-.94-2.06-.94 2.06-2.06.94z\"/><path d=\"M17.41 7.96l-1.37-1.37c-.4-.4-.92-.59-1.43-.59-.52 0-1.04.2-1.43.59L10.3 9.45l-7.72 7.72c-.78.78-.78 2.05 0 2.83L4 21.41c.39.39.9.59 1.41.59.51 0 1.02-.2 1.41-.59l7.78-7.78 2.81-2.81c.8-.78.8-2.07 0-2.86zM5.41 20L4 18.59l7.72-7.72 1.47 1.35L5.41 20z\"/>\n",
              "  </svg>\n",
              "      </button>\n",
              "      \n",
              "  <style>\n",
              "    .colab-df-container {\n",
              "      display:flex;\n",
              "      flex-wrap:wrap;\n",
              "      gap: 12px;\n",
              "    }\n",
              "\n",
              "    .colab-df-convert {\n",
              "      background-color: #E8F0FE;\n",
              "      border: none;\n",
              "      border-radius: 50%;\n",
              "      cursor: pointer;\n",
              "      display: none;\n",
              "      fill: #1967D2;\n",
              "      height: 32px;\n",
              "      padding: 0 0 0 0;\n",
              "      width: 32px;\n",
              "    }\n",
              "\n",
              "    .colab-df-convert:hover {\n",
              "      background-color: #E2EBFA;\n",
              "      box-shadow: 0px 1px 2px rgba(60, 64, 67, 0.3), 0px 1px 3px 1px rgba(60, 64, 67, 0.15);\n",
              "      fill: #174EA6;\n",
              "    }\n",
              "\n",
              "    [theme=dark] .colab-df-convert {\n",
              "      background-color: #3B4455;\n",
              "      fill: #D2E3FC;\n",
              "    }\n",
              "\n",
              "    [theme=dark] .colab-df-convert:hover {\n",
              "      background-color: #434B5C;\n",
              "      box-shadow: 0px 1px 3px 1px rgba(0, 0, 0, 0.15);\n",
              "      filter: drop-shadow(0px 1px 2px rgba(0, 0, 0, 0.3));\n",
              "      fill: #FFFFFF;\n",
              "    }\n",
              "  </style>\n",
              "\n",
              "      <script>\n",
              "        const buttonEl =\n",
              "          document.querySelector('#df-b52c804f-684e-4e87-a498-b849f8c254bd button.colab-df-convert');\n",
              "        buttonEl.style.display =\n",
              "          google.colab.kernel.accessAllowed ? 'block' : 'none';\n",
              "\n",
              "        async function convertToInteractive(key) {\n",
              "          const element = document.querySelector('#df-b52c804f-684e-4e87-a498-b849f8c254bd');\n",
              "          const dataTable =\n",
              "            await google.colab.kernel.invokeFunction('convertToInteractive',\n",
              "                                                     [key], {});\n",
              "          if (!dataTable) return;\n",
              "\n",
              "          const docLinkHtml = 'Like what you see? Visit the ' +\n",
              "            '<a target=\"_blank\" href=https://colab.research.google.com/notebooks/data_table.ipynb>data table notebook</a>'\n",
              "            + ' to learn more about interactive tables.';\n",
              "          element.innerHTML = '';\n",
              "          dataTable['output_type'] = 'display_data';\n",
              "          await google.colab.output.renderOutput(dataTable, element);\n",
              "          const docLink = document.createElement('div');\n",
              "          docLink.innerHTML = docLinkHtml;\n",
              "          element.appendChild(docLink);\n",
              "        }\n",
              "      </script>\n",
              "    </div>\n",
              "  </div>\n",
              "  "
            ]
          },
          "metadata": {},
          "execution_count": 7
        }
      ]
    },
    {
      "cell_type": "code",
      "source": [
        "data_train.info()"
      ],
      "metadata": {
        "id": "IddRE_R5ukBz",
        "colab": {
          "base_uri": "https://localhost:8080/"
        },
        "outputId": "3227368f-b155-48b3-9770-a87cfc6f491e"
      },
      "execution_count": null,
      "outputs": [
        {
          "output_type": "stream",
          "name": "stdout",
          "text": [
            "<class 'pandas.core.frame.DataFrame'>\n",
            "RangeIndex: 2934817 entries, 0 to 2934816\n",
            "Data columns (total 19 columns):\n",
            " #   Column             Dtype  \n",
            "---  ------             -----  \n",
            " 0   pkSeqID            int64  \n",
            " 1   proto              object \n",
            " 2   saddr              object \n",
            " 3   sport              object \n",
            " 4   daddr              object \n",
            " 5   dport              object \n",
            " 6   seq                int64  \n",
            " 7   stddev             float64\n",
            " 8   N_IN_Conn_P_SrcIP  int64  \n",
            " 9   min                float64\n",
            " 10  state_number       int64  \n",
            " 11  mean               float64\n",
            " 12  N_IN_Conn_P_DstIP  int64  \n",
            " 13  drate              float64\n",
            " 14  srate              float64\n",
            " 15  max                float64\n",
            " 16  attack             int64  \n",
            " 17  category           object \n",
            " 18  subcategory        object \n",
            "dtypes: float64(6), int64(6), object(7)\n",
            "memory usage: 425.4+ MB\n"
          ]
        }
      ]
    },
    {
      "cell_type": "code",
      "source": [
        "data_train.shape"
      ],
      "metadata": {
        "id": "gUGq2VJuunbV",
        "colab": {
          "base_uri": "https://localhost:8080/"
        },
        "outputId": "0dcaa8e3-436f-4f87-f93c-e5185e7b4890"
      },
      "execution_count": null,
      "outputs": [
        {
          "output_type": "execute_result",
          "data": {
            "text/plain": [
              "(2934817, 19)"
            ]
          },
          "metadata": {},
          "execution_count": 9
        }
      ]
    },
    {
      "cell_type": "code",
      "source": [
        "data_test.shape"
      ],
      "metadata": {
        "id": "Iq5Wh3h4urHV",
        "colab": {
          "base_uri": "https://localhost:8080/"
        },
        "outputId": "8069cf21-1399-41a6-8bf6-8b28103414ab"
      },
      "execution_count": null,
      "outputs": [
        {
          "output_type": "execute_result",
          "data": {
            "text/plain": [
              "(733705, 19)"
            ]
          },
          "metadata": {},
          "execution_count": 10
        }
      ]
    },
    {
      "cell_type": "code",
      "source": [
        "data_train.isnull().sum()"
      ],
      "metadata": {
        "id": "IlVBwvYbuuTM",
        "colab": {
          "base_uri": "https://localhost:8080/"
        },
        "outputId": "de98e908-3789-4e32-faf4-f3f707b419ae"
      },
      "execution_count": null,
      "outputs": [
        {
          "output_type": "execute_result",
          "data": {
            "text/plain": [
              "pkSeqID              0\n",
              "proto                0\n",
              "saddr                0\n",
              "sport                0\n",
              "daddr                0\n",
              "dport                0\n",
              "seq                  0\n",
              "stddev               0\n",
              "N_IN_Conn_P_SrcIP    0\n",
              "min                  0\n",
              "state_number         0\n",
              "mean                 0\n",
              "N_IN_Conn_P_DstIP    0\n",
              "drate                0\n",
              "srate                0\n",
              "max                  0\n",
              "attack               0\n",
              "category             0\n",
              "subcategory          0\n",
              "dtype: int64"
            ]
          },
          "metadata": {},
          "execution_count": 11
        }
      ]
    },
    {
      "cell_type": "code",
      "source": [
        "data_train.drop([\"pkSeqID\",\"seq\",\"subcategory\"], axis=1, inplace=True)"
      ],
      "metadata": {
        "id": "XFjooN33uzgi"
      },
      "execution_count": null,
      "outputs": []
    },
    {
      "cell_type": "code",
      "source": [
        "data_test.drop([\"pkSeqID\",\"seq\",\"subcategory\"], axis=1, inplace=True)"
      ],
      "metadata": {
        "id": "oynRlfZKu0Fw"
      },
      "execution_count": null,
      "outputs": []
    },
    {
      "cell_type": "code",
      "source": [
        "data_train.dtypes[data_train.dtypes=='object']"
      ],
      "metadata": {
        "id": "PKKCgUxCu2rn",
        "colab": {
          "base_uri": "https://localhost:8080/"
        },
        "outputId": "7e5f6de1-f046-453b-e35c-b8d8210d69c7"
      },
      "execution_count": null,
      "outputs": [
        {
          "output_type": "execute_result",
          "data": {
            "text/plain": [
              "proto       object\n",
              "saddr       object\n",
              "sport       object\n",
              "daddr       object\n",
              "dport       object\n",
              "category    object\n",
              "dtype: object"
            ]
          },
          "metadata": {},
          "execution_count": 14
        }
      ]
    },
    {
      "cell_type": "code",
      "source": [
        "data_train['saddr'].value_counts()"
      ],
      "metadata": {
        "id": "dNn12N5Iu6mT",
        "colab": {
          "base_uri": "https://localhost:8080/"
        },
        "outputId": "e2f6ed2c-0b90-41a8-bdd1-1e168ab7cc1f"
      },
      "execution_count": null,
      "outputs": [
        {
          "output_type": "execute_result",
          "data": {
            "text/plain": [
              "192.168.100.147              761360\n",
              "192.168.100.148              738642\n",
              "192.168.100.150              712260\n",
              "192.168.100.149              711466\n",
              "192.168.100.3                  6609\n",
              "192.168.100.5                  4107\n",
              "192.168.100.6                   272\n",
              "192.168.100.7                    34\n",
              "192.168.100.4                    17\n",
              "192.168.100.1                    14\n",
              "192.168.100.27                    9\n",
              "192.168.100.46                    8\n",
              "fe80::250:56ff:febe:254           5\n",
              "192.168.100.55                    3\n",
              "fe80::2c6a:ff9b:7e14:166a         2\n",
              "fe80::250:56ff:febe:c038          2\n",
              "fe80::c0c0:aa20:45b9:bdd9         2\n",
              "fe80::250:56ff:febe:89ee          2\n",
              "fe80::250:56ff:febe:26db          2\n",
              "fe80::250:56ff:febe:e9d9          1\n",
              "Name: saddr, dtype: int64"
            ]
          },
          "metadata": {},
          "execution_count": 15
        }
      ]
    },
    {
      "cell_type": "code",
      "source": [
        "data_train['sport'].value_counts()"
      ],
      "metadata": {
        "id": "W9BmjkJWu-Ic",
        "colab": {
          "base_uri": "https://localhost:8080/"
        },
        "outputId": "6a0e2643-e914-4f23-9637-a2b0f7e51a5e"
      },
      "execution_count": null,
      "outputs": [
        {
          "output_type": "execute_result",
          "data": {
            "text/plain": [
              "0x0303    7156\n",
              "80        3220\n",
              "1822       878\n",
              "60541      869\n",
              "1216       868\n",
              "          ... \n",
              "39364       31\n",
              "18992       30\n",
              "39305       30\n",
              "0x000d      10\n",
              "0x0011       8\n",
              "Name: sport, Length: 65541, dtype: int64"
            ]
          },
          "metadata": {},
          "execution_count": 16
        }
      ]
    },
    {
      "cell_type": "code",
      "source": [
        "data_train['daddr'].value_counts()"
      ],
      "metadata": {
        "id": "WsQCk6AVvBYf",
        "colab": {
          "base_uri": "https://localhost:8080/"
        },
        "outputId": "5d7ef87a-6810-4a26-ca76-690ce60f26e4"
      },
      "execution_count": null,
      "outputs": [
        {
          "output_type": "execute_result",
          "data": {
            "text/plain": [
              "192.168.100.3      1900562\n",
              "192.168.100.5       361192\n",
              "192.168.100.7       332161\n",
              "192.168.100.6       329679\n",
              "192.168.100.150       3040\n",
              "                    ...   \n",
              "205.251.199.148          1\n",
              "192.33.14.30             1\n",
              "192.55.83.30             1\n",
              "205.251.194.201          1\n",
              "205.251.198.119          1\n",
              "Name: daddr, Length: 81, dtype: int64"
            ]
          },
          "metadata": {},
          "execution_count": 17
        }
      ]
    },
    {
      "cell_type": "code",
      "source": [
        "data_train['dport'].value_counts()"
      ],
      "metadata": {
        "id": "A1OMfDfGvDvv",
        "colab": {
          "base_uri": "https://localhost:8080/"
        },
        "outputId": "8cf20f45-d104-42b6-f454-e7ef99fa1895"
      },
      "execution_count": null,
      "outputs": [
        {
          "output_type": "execute_result",
          "data": {
            "text/plain": [
              "80       2858794\n",
              "1           5379\n",
              "3306        3757\n",
              "53           275\n",
              "-1           166\n",
              "          ...   \n",
              "40344          1\n",
              "3754           1\n",
              "6459           1\n",
              "26822          1\n",
              "61804          1\n",
              "Name: dport, Length: 6906, dtype: int64"
            ]
          },
          "metadata": {},
          "execution_count": 18
        }
      ]
    },
    {
      "cell_type": "code",
      "source": [
        "data_train['category'].value_counts()"
      ],
      "metadata": {
        "id": "xy0GKvifvXM8",
        "colab": {
          "base_uri": "https://localhost:8080/"
        },
        "outputId": "b71e359f-dd60-4a13-f646-598a1edef6c2"
      },
      "execution_count": null,
      "outputs": [
        {
          "output_type": "execute_result",
          "data": {
            "text/plain": [
              "DDoS              1541315\n",
              "DoS               1320148\n",
              "Reconnaissance      72919\n",
              "Normal                370\n",
              "Theft                  65\n",
              "Name: category, dtype: int64"
            ]
          },
          "metadata": {},
          "execution_count": 19
        }
      ]
    },
    {
      "cell_type": "code",
      "source": [
        "data_train.shape"
      ],
      "metadata": {
        "id": "357tyNTtvkxt",
        "colab": {
          "base_uri": "https://localhost:8080/"
        },
        "outputId": "ef4d1fbd-2edc-4ff2-ec55-220c5e631360"
      },
      "execution_count": null,
      "outputs": [
        {
          "output_type": "execute_result",
          "data": {
            "text/plain": [
              "(2934817, 16)"
            ]
          },
          "metadata": {},
          "execution_count": 20
        }
      ]
    },
    {
      "cell_type": "code",
      "source": [
        "indexNames = data_train[data_train['category']=='Theft'].index\n",
        "data_train.drop(indexNames , inplace=True)"
      ],
      "metadata": {
        "id": "L7loing7vnhZ"
      },
      "execution_count": null,
      "outputs": []
    },
    {
      "cell_type": "code",
      "source": [
        "data_train.shape"
      ],
      "metadata": {
        "id": "QRLldMJcvqSf",
        "colab": {
          "base_uri": "https://localhost:8080/"
        },
        "outputId": "2ec977b5-77dc-46fe-b6d1-ea06fa2b93d3"
      },
      "execution_count": null,
      "outputs": [
        {
          "output_type": "execute_result",
          "data": {
            "text/plain": [
              "(2934752, 16)"
            ]
          },
          "metadata": {},
          "execution_count": 22
        }
      ]
    },
    {
      "cell_type": "code",
      "source": [
        "data_train['sport']=data_train['sport'].replace(['0x0303'],'771') \n",
        "data_train['sport']=data_train['sport'].replace(['0x0011'],'17')\n",
        "data_train['sport']=data_train['sport'].replace(['0x000d'],'13')\n",
        "data_train['sport']=data_train['sport'].replace(['0x0008'],'8')"
      ],
      "metadata": {
        "id": "9AtoYm8-vt4l"
      },
      "execution_count": null,
      "outputs": []
    },
    {
      "cell_type": "code",
      "source": [
        "data_train[\"sport\"] = data_train[\"sport\"].astype(str).astype(int)"
      ],
      "metadata": {
        "id": "XDOq-pnmvxiG"
      },
      "execution_count": null,
      "outputs": []
    },
    {
      "cell_type": "code",
      "source": [
        "data_test['sport']=data_test['sport'].replace(['0x0303'],'771') \n",
        "data_test['sport']=data_test['sport'].replace(['0x0011'],'17')\n",
        "data_test['sport']=data_test['sport'].replace(['0x000d'],'13')\n",
        "data_test['sport']=data_test['sport'].replace(['0x0008'],'8')"
      ],
      "metadata": {
        "id": "DJqiy4VYv-E5"
      },
      "execution_count": null,
      "outputs": []
    },
    {
      "cell_type": "code",
      "source": [
        "data_test[\"sport\"] = data_test[\"sport\"].astype(str).astype(int)"
      ],
      "metadata": {
        "id": "l7OxxCn2wW_m"
      },
      "execution_count": null,
      "outputs": []
    },
    {
      "cell_type": "code",
      "source": [
        "data_train['dport']=data_train.dport.apply(lambda x: int(x,16) if len(x)>1 and x[1]==\"x\" else int(x))"
      ],
      "metadata": {
        "id": "9QVLsltiwarI"
      },
      "execution_count": null,
      "outputs": []
    },
    {
      "cell_type": "code",
      "source": [
        "data_test['dport']=data_test.dport.apply(lambda x: int(x,16) if len(x)>1 and x[1]==\"x\" else int(x))"
      ],
      "metadata": {
        "id": "CVcz0IXEwdgK"
      },
      "execution_count": null,
      "outputs": []
    },
    {
      "cell_type": "code",
      "source": [
        "data_train['dport'].value_counts()"
      ],
      "metadata": {
        "id": "zsygVmiAwgif",
        "colab": {
          "base_uri": "https://localhost:8080/"
        },
        "outputId": "29283e7f-ad28-469a-87bb-41c8483944f3"
      },
      "execution_count": null,
      "outputs": [
        {
          "output_type": "execute_result",
          "data": {
            "text/plain": [
              " 80       2858794\n",
              " 1           5379\n",
              " 3306        3757\n",
              " 53           275\n",
              "-1            163\n",
              "           ...   \n",
              " 40064          1\n",
              " 40027          1\n",
              " 40344          1\n",
              " 3754           1\n",
              " 61804          1\n",
              "Name: dport, Length: 6778, dtype: int64"
            ]
          },
          "metadata": {},
          "execution_count": 29
        }
      ]
    },
    {
      "cell_type": "code",
      "source": [
        "data_train['sport'].value_counts()"
      ],
      "metadata": {
        "id": "BHf6_R_qwmR6",
        "colab": {
          "base_uri": "https://localhost:8080/"
        },
        "outputId": "2f079fa3-5c3e-437a-bdf0-35be87d28b81"
      },
      "execution_count": null,
      "outputs": [
        {
          "output_type": "execute_result",
          "data": {
            "text/plain": [
              "771      7203\n",
              "80       3220\n",
              "1822      878\n",
              "60541     869\n",
              "1216      868\n",
              "         ... \n",
              "7813       31\n",
              "56775      31\n",
              "39364      31\n",
              "39305      30\n",
              "18992      30\n",
              "Name: sport, Length: 65537, dtype: int64"
            ]
          },
          "metadata": {},
          "execution_count": 30
        }
      ]
    },
    {
      "cell_type": "code",
      "source": [
        "from sklearn.preprocessing import LabelEncoder\n",
        "le = LabelEncoder()\n",
        "data_train[\"saddr_enc\"]= le.fit_transform(data_train.saddr)\n",
        "data_train[\"daddr_enc\"]= le.fit_transform(data_train.daddr)\n",
        "data_train[\"proto_enc\"]= le.fit_transform(data_train.proto)\n",
        "data_train[\"category_enc\"]= le.fit_transform(data_train.category)\n",
        "data_train.drop(['saddr','daddr','proto','category'], axis=1, inplace=True)"
      ],
      "metadata": {
        "id": "RdrupxVIwowM"
      },
      "execution_count": null,
      "outputs": []
    },
    {
      "cell_type": "code",
      "source": [
        "from sklearn.preprocessing import LabelEncoder\n",
        "le = LabelEncoder()\n",
        "data_test[\"saddr_enc\"]= le.fit_transform(data_test.saddr)\n",
        "data_test[\"daddr_enc\"]= le.fit_transform(data_test.daddr)\n",
        "data_test[\"proto_enc\"]= le.fit_transform(data_test.proto)\n",
        "data_test[\"category_enc\"]= le.fit_transform(data_test.category)\n",
        "data_test.drop(['saddr','daddr','proto','category'], axis=1, inplace=True)"
      ],
      "metadata": {
        "id": "0CMpM_sKwsOv"
      },
      "execution_count": null,
      "outputs": []
    },
    {
      "cell_type": "code",
      "source": [
        "data_train.head()"
      ],
      "metadata": {
        "id": "z429hksEwvbZ",
        "colab": {
          "base_uri": "https://localhost:8080/",
          "height": 206
        },
        "outputId": "e6ea1748-2d1c-4e11-bb2a-a7c4957cf3a2"
      },
      "execution_count": null,
      "outputs": [
        {
          "output_type": "execute_result",
          "data": {
            "text/plain": [
              "   sport  dport    stddev  N_IN_Conn_P_SrcIP       min  state_number  \\\n",
              "0   6551     80  1.900363                100  0.000000             4   \n",
              "1   5532     80  0.078003                 38  3.856930             3   \n",
              "2  27165     80  0.268666                100  2.974100             3   \n",
              "3  48719     80  1.823185                 63  0.000000             4   \n",
              "4  22461     80  0.822418                100  2.979995             4   \n",
              "\n",
              "       mean  N_IN_Conn_P_DstIP  drate     srate       max  attack  saddr_enc  \\\n",
              "0  2.687519                100    0.0  0.494549  4.031619       1          4   \n",
              "1  3.934927                100    0.0  0.256493  4.012924       1          4   \n",
              "2  3.341429                100    0.0  0.294880  3.609205       1          1   \n",
              "3  3.222832                 63    0.0  0.461435  4.942302       1          4   \n",
              "4  3.983222                100    0.0  1.002999  4.994452       1          1   \n",
              "\n",
              "   daddr_enc  proto_enc  category_enc  \n",
              "0         15          4             0  \n",
              "1         15          3             0  \n",
              "2         15          3             0  \n",
              "3         15          4             1  \n",
              "4         15          4             0  "
            ],
            "text/html": [
              "\n",
              "  <div id=\"df-c79f46c5-c868-41c4-b031-d268cc7d5b62\">\n",
              "    <div class=\"colab-df-container\">\n",
              "      <div>\n",
              "<style scoped>\n",
              "    .dataframe tbody tr th:only-of-type {\n",
              "        vertical-align: middle;\n",
              "    }\n",
              "\n",
              "    .dataframe tbody tr th {\n",
              "        vertical-align: top;\n",
              "    }\n",
              "\n",
              "    .dataframe thead th {\n",
              "        text-align: right;\n",
              "    }\n",
              "</style>\n",
              "<table border=\"1\" class=\"dataframe\">\n",
              "  <thead>\n",
              "    <tr style=\"text-align: right;\">\n",
              "      <th></th>\n",
              "      <th>sport</th>\n",
              "      <th>dport</th>\n",
              "      <th>stddev</th>\n",
              "      <th>N_IN_Conn_P_SrcIP</th>\n",
              "      <th>min</th>\n",
              "      <th>state_number</th>\n",
              "      <th>mean</th>\n",
              "      <th>N_IN_Conn_P_DstIP</th>\n",
              "      <th>drate</th>\n",
              "      <th>srate</th>\n",
              "      <th>max</th>\n",
              "      <th>attack</th>\n",
              "      <th>saddr_enc</th>\n",
              "      <th>daddr_enc</th>\n",
              "      <th>proto_enc</th>\n",
              "      <th>category_enc</th>\n",
              "    </tr>\n",
              "  </thead>\n",
              "  <tbody>\n",
              "    <tr>\n",
              "      <th>0</th>\n",
              "      <td>6551</td>\n",
              "      <td>80</td>\n",
              "      <td>1.900363</td>\n",
              "      <td>100</td>\n",
              "      <td>0.000000</td>\n",
              "      <td>4</td>\n",
              "      <td>2.687519</td>\n",
              "      <td>100</td>\n",
              "      <td>0.0</td>\n",
              "      <td>0.494549</td>\n",
              "      <td>4.031619</td>\n",
              "      <td>1</td>\n",
              "      <td>4</td>\n",
              "      <td>15</td>\n",
              "      <td>4</td>\n",
              "      <td>0</td>\n",
              "    </tr>\n",
              "    <tr>\n",
              "      <th>1</th>\n",
              "      <td>5532</td>\n",
              "      <td>80</td>\n",
              "      <td>0.078003</td>\n",
              "      <td>38</td>\n",
              "      <td>3.856930</td>\n",
              "      <td>3</td>\n",
              "      <td>3.934927</td>\n",
              "      <td>100</td>\n",
              "      <td>0.0</td>\n",
              "      <td>0.256493</td>\n",
              "      <td>4.012924</td>\n",
              "      <td>1</td>\n",
              "      <td>4</td>\n",
              "      <td>15</td>\n",
              "      <td>3</td>\n",
              "      <td>0</td>\n",
              "    </tr>\n",
              "    <tr>\n",
              "      <th>2</th>\n",
              "      <td>27165</td>\n",
              "      <td>80</td>\n",
              "      <td>0.268666</td>\n",
              "      <td>100</td>\n",
              "      <td>2.974100</td>\n",
              "      <td>3</td>\n",
              "      <td>3.341429</td>\n",
              "      <td>100</td>\n",
              "      <td>0.0</td>\n",
              "      <td>0.294880</td>\n",
              "      <td>3.609205</td>\n",
              "      <td>1</td>\n",
              "      <td>1</td>\n",
              "      <td>15</td>\n",
              "      <td>3</td>\n",
              "      <td>0</td>\n",
              "    </tr>\n",
              "    <tr>\n",
              "      <th>3</th>\n",
              "      <td>48719</td>\n",
              "      <td>80</td>\n",
              "      <td>1.823185</td>\n",
              "      <td>63</td>\n",
              "      <td>0.000000</td>\n",
              "      <td>4</td>\n",
              "      <td>3.222832</td>\n",
              "      <td>63</td>\n",
              "      <td>0.0</td>\n",
              "      <td>0.461435</td>\n",
              "      <td>4.942302</td>\n",
              "      <td>1</td>\n",
              "      <td>4</td>\n",
              "      <td>15</td>\n",
              "      <td>4</td>\n",
              "      <td>1</td>\n",
              "    </tr>\n",
              "    <tr>\n",
              "      <th>4</th>\n",
              "      <td>22461</td>\n",
              "      <td>80</td>\n",
              "      <td>0.822418</td>\n",
              "      <td>100</td>\n",
              "      <td>2.979995</td>\n",
              "      <td>4</td>\n",
              "      <td>3.983222</td>\n",
              "      <td>100</td>\n",
              "      <td>0.0</td>\n",
              "      <td>1.002999</td>\n",
              "      <td>4.994452</td>\n",
              "      <td>1</td>\n",
              "      <td>1</td>\n",
              "      <td>15</td>\n",
              "      <td>4</td>\n",
              "      <td>0</td>\n",
              "    </tr>\n",
              "  </tbody>\n",
              "</table>\n",
              "</div>\n",
              "      <button class=\"colab-df-convert\" onclick=\"convertToInteractive('df-c79f46c5-c868-41c4-b031-d268cc7d5b62')\"\n",
              "              title=\"Convert this dataframe to an interactive table.\"\n",
              "              style=\"display:none;\">\n",
              "        \n",
              "  <svg xmlns=\"http://www.w3.org/2000/svg\" height=\"24px\"viewBox=\"0 0 24 24\"\n",
              "       width=\"24px\">\n",
              "    <path d=\"M0 0h24v24H0V0z\" fill=\"none\"/>\n",
              "    <path d=\"M18.56 5.44l.94 2.06.94-2.06 2.06-.94-2.06-.94-.94-2.06-.94 2.06-2.06.94zm-11 1L8.5 8.5l.94-2.06 2.06-.94-2.06-.94L8.5 2.5l-.94 2.06-2.06.94zm10 10l.94 2.06.94-2.06 2.06-.94-2.06-.94-.94-2.06-.94 2.06-2.06.94z\"/><path d=\"M17.41 7.96l-1.37-1.37c-.4-.4-.92-.59-1.43-.59-.52 0-1.04.2-1.43.59L10.3 9.45l-7.72 7.72c-.78.78-.78 2.05 0 2.83L4 21.41c.39.39.9.59 1.41.59.51 0 1.02-.2 1.41-.59l7.78-7.78 2.81-2.81c.8-.78.8-2.07 0-2.86zM5.41 20L4 18.59l7.72-7.72 1.47 1.35L5.41 20z\"/>\n",
              "  </svg>\n",
              "      </button>\n",
              "      \n",
              "  <style>\n",
              "    .colab-df-container {\n",
              "      display:flex;\n",
              "      flex-wrap:wrap;\n",
              "      gap: 12px;\n",
              "    }\n",
              "\n",
              "    .colab-df-convert {\n",
              "      background-color: #E8F0FE;\n",
              "      border: none;\n",
              "      border-radius: 50%;\n",
              "      cursor: pointer;\n",
              "      display: none;\n",
              "      fill: #1967D2;\n",
              "      height: 32px;\n",
              "      padding: 0 0 0 0;\n",
              "      width: 32px;\n",
              "    }\n",
              "\n",
              "    .colab-df-convert:hover {\n",
              "      background-color: #E2EBFA;\n",
              "      box-shadow: 0px 1px 2px rgba(60, 64, 67, 0.3), 0px 1px 3px 1px rgba(60, 64, 67, 0.15);\n",
              "      fill: #174EA6;\n",
              "    }\n",
              "\n",
              "    [theme=dark] .colab-df-convert {\n",
              "      background-color: #3B4455;\n",
              "      fill: #D2E3FC;\n",
              "    }\n",
              "\n",
              "    [theme=dark] .colab-df-convert:hover {\n",
              "      background-color: #434B5C;\n",
              "      box-shadow: 0px 1px 3px 1px rgba(0, 0, 0, 0.15);\n",
              "      filter: drop-shadow(0px 1px 2px rgba(0, 0, 0, 0.3));\n",
              "      fill: #FFFFFF;\n",
              "    }\n",
              "  </style>\n",
              "\n",
              "      <script>\n",
              "        const buttonEl =\n",
              "          document.querySelector('#df-c79f46c5-c868-41c4-b031-d268cc7d5b62 button.colab-df-convert');\n",
              "        buttonEl.style.display =\n",
              "          google.colab.kernel.accessAllowed ? 'block' : 'none';\n",
              "\n",
              "        async function convertToInteractive(key) {\n",
              "          const element = document.querySelector('#df-c79f46c5-c868-41c4-b031-d268cc7d5b62');\n",
              "          const dataTable =\n",
              "            await google.colab.kernel.invokeFunction('convertToInteractive',\n",
              "                                                     [key], {});\n",
              "          if (!dataTable) return;\n",
              "\n",
              "          const docLinkHtml = 'Like what you see? Visit the ' +\n",
              "            '<a target=\"_blank\" href=https://colab.research.google.com/notebooks/data_table.ipynb>data table notebook</a>'\n",
              "            + ' to learn more about interactive tables.';\n",
              "          element.innerHTML = '';\n",
              "          dataTable['output_type'] = 'display_data';\n",
              "          await google.colab.output.renderOutput(dataTable, element);\n",
              "          const docLink = document.createElement('div');\n",
              "          docLink.innerHTML = docLinkHtml;\n",
              "          element.appendChild(docLink);\n",
              "        }\n",
              "      </script>\n",
              "    </div>\n",
              "  </div>\n",
              "  "
            ]
          },
          "metadata": {},
          "execution_count": 33
        }
      ]
    },
    {
      "cell_type": "code",
      "source": [
        "data_train['category_enc'].value_counts()"
      ],
      "metadata": {
        "id": "sPeHPfTHw0V7",
        "colab": {
          "base_uri": "https://localhost:8080/"
        },
        "outputId": "4bfc6857-e3f7-471d-baef-eeb481cf7ec6"
      },
      "execution_count": null,
      "outputs": [
        {
          "output_type": "execute_result",
          "data": {
            "text/plain": [
              "0    1541315\n",
              "1    1320148\n",
              "3      72919\n",
              "2        370\n",
              "Name: category_enc, dtype: int64"
            ]
          },
          "metadata": {},
          "execution_count": 34
        }
      ]
    },
    {
      "cell_type": "code",
      "source": [
        "data_train.info()"
      ],
      "metadata": {
        "id": "iaH0AvUVw1KR",
        "colab": {
          "base_uri": "https://localhost:8080/"
        },
        "outputId": "c202f7b7-0739-4a35-f32f-353afb7bde69"
      },
      "execution_count": null,
      "outputs": [
        {
          "output_type": "stream",
          "name": "stdout",
          "text": [
            "<class 'pandas.core.frame.DataFrame'>\n",
            "Int64Index: 2934752 entries, 0 to 2934816\n",
            "Data columns (total 16 columns):\n",
            " #   Column             Dtype  \n",
            "---  ------             -----  \n",
            " 0   sport              int64  \n",
            " 1   dport              int64  \n",
            " 2   stddev             float64\n",
            " 3   N_IN_Conn_P_SrcIP  int64  \n",
            " 4   min                float64\n",
            " 5   state_number       int64  \n",
            " 6   mean               float64\n",
            " 7   N_IN_Conn_P_DstIP  int64  \n",
            " 8   drate              float64\n",
            " 9   srate              float64\n",
            " 10  max                float64\n",
            " 11  attack             int64  \n",
            " 12  saddr_enc          int64  \n",
            " 13  daddr_enc          int64  \n",
            " 14  proto_enc          int64  \n",
            " 15  category_enc       int64  \n",
            "dtypes: float64(6), int64(10)\n",
            "memory usage: 380.6 MB\n"
          ]
        }
      ]
    },
    {
      "cell_type": "code",
      "source": [
        "y_train=data_train[\"category_enc\"]"
      ],
      "metadata": {
        "id": "Wgrl7gdWw3g3"
      },
      "execution_count": null,
      "outputs": []
    },
    {
      "cell_type": "code",
      "source": [
        "y_test=data_test[\"category_enc\"]"
      ],
      "metadata": {
        "id": "D697FCAUxCnn"
      },
      "execution_count": null,
      "outputs": []
    },
    {
      "cell_type": "code",
      "source": [
        "from sklearn.preprocessing import StandardScaler\n",
        "scaler=StandardScaler()\n",
        "features = data_train.iloc[:,:-1]\n",
        "cols=features.columns\n",
        "scaled_features= scaler.fit_transform(features)\n",
        "data_train= pd.DataFrame(scaled_features,columns=cols)"
      ],
      "metadata": {
        "id": "ONKK8s5dxE1E"
      },
      "execution_count": null,
      "outputs": []
    },
    {
      "cell_type": "code",
      "source": [
        "from sklearn.preprocessing import StandardScaler\n",
        "scaler=StandardScaler()\n",
        "features = data_test.iloc[:,:-1]\n",
        "cols=features.columns\n",
        "scaled_features= scaler.fit_transform(features)\n",
        "data_test= pd.DataFrame(scaled_features,columns=cols)"
      ],
      "metadata": {
        "id": "Vti605_2xH1s"
      },
      "execution_count": null,
      "outputs": []
    },
    {
      "cell_type": "code",
      "source": [
        "data_train.head()"
      ],
      "metadata": {
        "id": "UgrLiZuQxWA1",
        "colab": {
          "base_uri": "https://localhost:8080/",
          "height": 206
        },
        "outputId": "9979c1c1-cafc-4ed5-b0f9-2cbede8bcb94"
      },
      "execution_count": null,
      "outputs": [
        {
          "output_type": "execute_result",
          "data": {
            "text/plain": [
              "      sport     dport    stddev  N_IN_Conn_P_SrcIP       min  state_number  \\\n",
              "0 -1.380796 -0.094028  1.260991           0.715435 -0.685661      0.729327   \n",
              "1 -1.434107 -0.094028 -1.006649          -1.826659  1.914132     -0.113083   \n",
              "2 -0.302346 -0.094028 -0.769399           0.715435  1.319054     -0.113083   \n",
              "3  0.825282 -0.094028  1.164956          -0.801621 -0.685661      0.729327   \n",
              "4 -0.548442 -0.094028 -0.080342           0.715435  1.323028      0.729327   \n",
              "\n",
              "       mean  N_IN_Conn_P_DstIP    drate     srate       max    attack  \\\n",
              "0  0.301113           0.415159 -0.00763 -0.003355  0.543986  0.011229   \n",
              "1  1.122991           0.415159 -0.00763 -0.003659  0.533940  0.011229   \n",
              "2  0.731954           0.415159 -0.00763 -0.003610  0.316991  0.011229   \n",
              "3  0.653814          -1.621898 -0.00763 -0.003397  1.033365  0.011229   \n",
              "4  1.154811           0.415159 -0.00763 -0.002707  1.061389  0.011229   \n",
              "\n",
              "   saddr_enc  daddr_enc  proto_enc  \n",
              "0   1.301786  -0.638504   0.897321  \n",
              "1   1.301786  -0.638504  -1.049199  \n",
              "2  -1.281470  -0.638504  -1.049199  \n",
              "3   1.301786  -0.638504   0.897321  \n",
              "4  -1.281470  -0.638504   0.897321  "
            ],
            "text/html": [
              "\n",
              "  <div id=\"df-6d6d9b60-9d00-4482-a0e0-da69efb42617\">\n",
              "    <div class=\"colab-df-container\">\n",
              "      <div>\n",
              "<style scoped>\n",
              "    .dataframe tbody tr th:only-of-type {\n",
              "        vertical-align: middle;\n",
              "    }\n",
              "\n",
              "    .dataframe tbody tr th {\n",
              "        vertical-align: top;\n",
              "    }\n",
              "\n",
              "    .dataframe thead th {\n",
              "        text-align: right;\n",
              "    }\n",
              "</style>\n",
              "<table border=\"1\" class=\"dataframe\">\n",
              "  <thead>\n",
              "    <tr style=\"text-align: right;\">\n",
              "      <th></th>\n",
              "      <th>sport</th>\n",
              "      <th>dport</th>\n",
              "      <th>stddev</th>\n",
              "      <th>N_IN_Conn_P_SrcIP</th>\n",
              "      <th>min</th>\n",
              "      <th>state_number</th>\n",
              "      <th>mean</th>\n",
              "      <th>N_IN_Conn_P_DstIP</th>\n",
              "      <th>drate</th>\n",
              "      <th>srate</th>\n",
              "      <th>max</th>\n",
              "      <th>attack</th>\n",
              "      <th>saddr_enc</th>\n",
              "      <th>daddr_enc</th>\n",
              "      <th>proto_enc</th>\n",
              "    </tr>\n",
              "  </thead>\n",
              "  <tbody>\n",
              "    <tr>\n",
              "      <th>0</th>\n",
              "      <td>-1.380796</td>\n",
              "      <td>-0.094028</td>\n",
              "      <td>1.260991</td>\n",
              "      <td>0.715435</td>\n",
              "      <td>-0.685661</td>\n",
              "      <td>0.729327</td>\n",
              "      <td>0.301113</td>\n",
              "      <td>0.415159</td>\n",
              "      <td>-0.00763</td>\n",
              "      <td>-0.003355</td>\n",
              "      <td>0.543986</td>\n",
              "      <td>0.011229</td>\n",
              "      <td>1.301786</td>\n",
              "      <td>-0.638504</td>\n",
              "      <td>0.897321</td>\n",
              "    </tr>\n",
              "    <tr>\n",
              "      <th>1</th>\n",
              "      <td>-1.434107</td>\n",
              "      <td>-0.094028</td>\n",
              "      <td>-1.006649</td>\n",
              "      <td>-1.826659</td>\n",
              "      <td>1.914132</td>\n",
              "      <td>-0.113083</td>\n",
              "      <td>1.122991</td>\n",
              "      <td>0.415159</td>\n",
              "      <td>-0.00763</td>\n",
              "      <td>-0.003659</td>\n",
              "      <td>0.533940</td>\n",
              "      <td>0.011229</td>\n",
              "      <td>1.301786</td>\n",
              "      <td>-0.638504</td>\n",
              "      <td>-1.049199</td>\n",
              "    </tr>\n",
              "    <tr>\n",
              "      <th>2</th>\n",
              "      <td>-0.302346</td>\n",
              "      <td>-0.094028</td>\n",
              "      <td>-0.769399</td>\n",
              "      <td>0.715435</td>\n",
              "      <td>1.319054</td>\n",
              "      <td>-0.113083</td>\n",
              "      <td>0.731954</td>\n",
              "      <td>0.415159</td>\n",
              "      <td>-0.00763</td>\n",
              "      <td>-0.003610</td>\n",
              "      <td>0.316991</td>\n",
              "      <td>0.011229</td>\n",
              "      <td>-1.281470</td>\n",
              "      <td>-0.638504</td>\n",
              "      <td>-1.049199</td>\n",
              "    </tr>\n",
              "    <tr>\n",
              "      <th>3</th>\n",
              "      <td>0.825282</td>\n",
              "      <td>-0.094028</td>\n",
              "      <td>1.164956</td>\n",
              "      <td>-0.801621</td>\n",
              "      <td>-0.685661</td>\n",
              "      <td>0.729327</td>\n",
              "      <td>0.653814</td>\n",
              "      <td>-1.621898</td>\n",
              "      <td>-0.00763</td>\n",
              "      <td>-0.003397</td>\n",
              "      <td>1.033365</td>\n",
              "      <td>0.011229</td>\n",
              "      <td>1.301786</td>\n",
              "      <td>-0.638504</td>\n",
              "      <td>0.897321</td>\n",
              "    </tr>\n",
              "    <tr>\n",
              "      <th>4</th>\n",
              "      <td>-0.548442</td>\n",
              "      <td>-0.094028</td>\n",
              "      <td>-0.080342</td>\n",
              "      <td>0.715435</td>\n",
              "      <td>1.323028</td>\n",
              "      <td>0.729327</td>\n",
              "      <td>1.154811</td>\n",
              "      <td>0.415159</td>\n",
              "      <td>-0.00763</td>\n",
              "      <td>-0.002707</td>\n",
              "      <td>1.061389</td>\n",
              "      <td>0.011229</td>\n",
              "      <td>-1.281470</td>\n",
              "      <td>-0.638504</td>\n",
              "      <td>0.897321</td>\n",
              "    </tr>\n",
              "  </tbody>\n",
              "</table>\n",
              "</div>\n",
              "      <button class=\"colab-df-convert\" onclick=\"convertToInteractive('df-6d6d9b60-9d00-4482-a0e0-da69efb42617')\"\n",
              "              title=\"Convert this dataframe to an interactive table.\"\n",
              "              style=\"display:none;\">\n",
              "        \n",
              "  <svg xmlns=\"http://www.w3.org/2000/svg\" height=\"24px\"viewBox=\"0 0 24 24\"\n",
              "       width=\"24px\">\n",
              "    <path d=\"M0 0h24v24H0V0z\" fill=\"none\"/>\n",
              "    <path d=\"M18.56 5.44l.94 2.06.94-2.06 2.06-.94-2.06-.94-.94-2.06-.94 2.06-2.06.94zm-11 1L8.5 8.5l.94-2.06 2.06-.94-2.06-.94L8.5 2.5l-.94 2.06-2.06.94zm10 10l.94 2.06.94-2.06 2.06-.94-2.06-.94-.94-2.06-.94 2.06-2.06.94z\"/><path d=\"M17.41 7.96l-1.37-1.37c-.4-.4-.92-.59-1.43-.59-.52 0-1.04.2-1.43.59L10.3 9.45l-7.72 7.72c-.78.78-.78 2.05 0 2.83L4 21.41c.39.39.9.59 1.41.59.51 0 1.02-.2 1.41-.59l7.78-7.78 2.81-2.81c.8-.78.8-2.07 0-2.86zM5.41 20L4 18.59l7.72-7.72 1.47 1.35L5.41 20z\"/>\n",
              "  </svg>\n",
              "      </button>\n",
              "      \n",
              "  <style>\n",
              "    .colab-df-container {\n",
              "      display:flex;\n",
              "      flex-wrap:wrap;\n",
              "      gap: 12px;\n",
              "    }\n",
              "\n",
              "    .colab-df-convert {\n",
              "      background-color: #E8F0FE;\n",
              "      border: none;\n",
              "      border-radius: 50%;\n",
              "      cursor: pointer;\n",
              "      display: none;\n",
              "      fill: #1967D2;\n",
              "      height: 32px;\n",
              "      padding: 0 0 0 0;\n",
              "      width: 32px;\n",
              "    }\n",
              "\n",
              "    .colab-df-convert:hover {\n",
              "      background-color: #E2EBFA;\n",
              "      box-shadow: 0px 1px 2px rgba(60, 64, 67, 0.3), 0px 1px 3px 1px rgba(60, 64, 67, 0.15);\n",
              "      fill: #174EA6;\n",
              "    }\n",
              "\n",
              "    [theme=dark] .colab-df-convert {\n",
              "      background-color: #3B4455;\n",
              "      fill: #D2E3FC;\n",
              "    }\n",
              "\n",
              "    [theme=dark] .colab-df-convert:hover {\n",
              "      background-color: #434B5C;\n",
              "      box-shadow: 0px 1px 3px 1px rgba(0, 0, 0, 0.15);\n",
              "      filter: drop-shadow(0px 1px 2px rgba(0, 0, 0, 0.3));\n",
              "      fill: #FFFFFF;\n",
              "    }\n",
              "  </style>\n",
              "\n",
              "      <script>\n",
              "        const buttonEl =\n",
              "          document.querySelector('#df-6d6d9b60-9d00-4482-a0e0-da69efb42617 button.colab-df-convert');\n",
              "        buttonEl.style.display =\n",
              "          google.colab.kernel.accessAllowed ? 'block' : 'none';\n",
              "\n",
              "        async function convertToInteractive(key) {\n",
              "          const element = document.querySelector('#df-6d6d9b60-9d00-4482-a0e0-da69efb42617');\n",
              "          const dataTable =\n",
              "            await google.colab.kernel.invokeFunction('convertToInteractive',\n",
              "                                                     [key], {});\n",
              "          if (!dataTable) return;\n",
              "\n",
              "          const docLinkHtml = 'Like what you see? Visit the ' +\n",
              "            '<a target=\"_blank\" href=https://colab.research.google.com/notebooks/data_table.ipynb>data table notebook</a>'\n",
              "            + ' to learn more about interactive tables.';\n",
              "          element.innerHTML = '';\n",
              "          dataTable['output_type'] = 'display_data';\n",
              "          await google.colab.output.renderOutput(dataTable, element);\n",
              "          const docLink = document.createElement('div');\n",
              "          docLink.innerHTML = docLinkHtml;\n",
              "          element.appendChild(docLink);\n",
              "        }\n",
              "      </script>\n",
              "    </div>\n",
              "  </div>\n",
              "  "
            ]
          },
          "metadata": {},
          "execution_count": 40
        }
      ]
    },
    {
      "cell_type": "code",
      "source": [
        "data_train.info()"
      ],
      "metadata": {
        "id": "AK-FzWNtxcRz",
        "colab": {
          "base_uri": "https://localhost:8080/"
        },
        "outputId": "76e442f5-fc41-4ed7-a26d-77801961edb9"
      },
      "execution_count": null,
      "outputs": [
        {
          "output_type": "stream",
          "name": "stdout",
          "text": [
            "<class 'pandas.core.frame.DataFrame'>\n",
            "RangeIndex: 2934752 entries, 0 to 2934751\n",
            "Data columns (total 15 columns):\n",
            " #   Column             Dtype  \n",
            "---  ------             -----  \n",
            " 0   sport              float64\n",
            " 1   dport              float64\n",
            " 2   stddev             float64\n",
            " 3   N_IN_Conn_P_SrcIP  float64\n",
            " 4   min                float64\n",
            " 5   state_number       float64\n",
            " 6   mean               float64\n",
            " 7   N_IN_Conn_P_DstIP  float64\n",
            " 8   drate              float64\n",
            " 9   srate              float64\n",
            " 10  max                float64\n",
            " 11  attack             float64\n",
            " 12  saddr_enc          float64\n",
            " 13  daddr_enc          float64\n",
            " 14  proto_enc          float64\n",
            "dtypes: float64(15)\n",
            "memory usage: 335.9 MB\n"
          ]
        }
      ]
    },
    {
      "cell_type": "code",
      "source": [
        "y_train.value_counts()"
      ],
      "metadata": {
        "id": "wg-dqHJFxmCG",
        "colab": {
          "base_uri": "https://localhost:8080/"
        },
        "outputId": "acbdb036-398e-46ab-f22f-e326670061f8"
      },
      "execution_count": null,
      "outputs": [
        {
          "output_type": "execute_result",
          "data": {
            "text/plain": [
              "0    1541315\n",
              "1    1320148\n",
              "3      72919\n",
              "2        370\n",
              "Name: category_enc, dtype: int64"
            ]
          },
          "metadata": {},
          "execution_count": 42
        }
      ]
    },
    {
      "cell_type": "code",
      "source": [
        "import imblearn\n",
        "from imblearn.over_sampling import RandomOverSampler\n",
        "samp_strat= { 0 : 1541315, 1 : 1320148, 2 : 72919, 3 : 72919}\n",
        "random_over= RandomOverSampler(sampling_strategy=samp_strat,random_state=1)\n",
        "Xres,yres = random_over.fit_resample(data_train,y_train)"
      ],
      "metadata": {
        "id": "3L9hkXeFxo1w"
      },
      "execution_count": null,
      "outputs": []
    },
    {
      "cell_type": "code",
      "source": [
        "pd.Series(yres).value_counts()"
      ],
      "metadata": {
        "id": "IqStgsIPxr3X",
        "colab": {
          "base_uri": "https://localhost:8080/"
        },
        "outputId": "74f4934e-93fd-42cd-bb86-b66e75c2de37"
      },
      "execution_count": null,
      "outputs": [
        {
          "output_type": "execute_result",
          "data": {
            "text/plain": [
              "0    1541315\n",
              "1    1320148\n",
              "3      72919\n",
              "2      72919\n",
              "Name: category_enc, dtype: int64"
            ]
          },
          "metadata": {},
          "execution_count": 44
        }
      ]
    },
    {
      "cell_type": "code",
      "source": [
        "import imblearn\n",
        "from imblearn.under_sampling import RandomUnderSampler\n",
        "samp_strat= { 0 : 72919, 1 : 72919, 2 : 72919, 3 : 72919}\n",
        "random_under= RandomUnderSampler(sampling_strategy=samp_strat,random_state=1)\n",
        "Xres1,yres1 = random_under.fit_resample(Xres,yres)"
      ],
      "metadata": {
        "id": "EHvBrJ_AxuTH"
      },
      "execution_count": null,
      "outputs": []
    },
    {
      "cell_type": "code",
      "source": [
        "pd.Series(yres1).value_counts()"
      ],
      "metadata": {
        "id": "BAV6NzXkxyrO",
        "colab": {
          "base_uri": "https://localhost:8080/"
        },
        "outputId": "1075b186-55b7-4c32-b079-a70ae265da57"
      },
      "execution_count": null,
      "outputs": [
        {
          "output_type": "execute_result",
          "data": {
            "text/plain": [
              "0    72919\n",
              "1    72919\n",
              "2    72919\n",
              "3    72919\n",
              "Name: category_enc, dtype: int64"
            ]
          },
          "metadata": {},
          "execution_count": 46
        }
      ]
    },
    {
      "cell_type": "code",
      "source": [
        "from sklearn.linear_model import LogisticRegression\n",
        "import time\n",
        "start = time.time()\n",
        "logisticRegr = LogisticRegression()\n",
        "logisticRegr.fit(Xres1, yres1)\n",
        "pred= logisticRegr.predict(data_test)\n",
        "score = logisticRegr.score(data_test, y_test)\n",
        "end = time.time()\n",
        "print(end - start, \"seconds\\n\")\n",
        "score"
      ],
      "metadata": {
        "id": "skjp5OLtx6P9",
        "colab": {
          "base_uri": "https://localhost:8080/"
        },
        "outputId": "0ebeb28b-6ff5-4463-cae1-d6310dd419e2"
      },
      "execution_count": null,
      "outputs": [
        {
          "output_type": "stream",
          "name": "stdout",
          "text": [
            "7.735779047012329 seconds\n",
            "\n"
          ]
        },
        {
          "output_type": "execute_result",
          "data": {
            "text/plain": [
              "0.975627806816091"
            ]
          },
          "metadata": {},
          "execution_count": 47
        }
      ]
    },
    {
      "cell_type": "code",
      "source": [
        "from sklearn.metrics import classification_report,confusion_matrix\n",
        "classification_report(y_test,pred)"
      ],
      "metadata": {
        "id": "irT4LcTUyIKy",
        "colab": {
          "base_uri": "https://localhost:8080/",
          "height": 70
        },
        "outputId": "d2c56c71-b389-4e60-81e7-045da47ed258"
      },
      "execution_count": null,
      "outputs": [
        {
          "output_type": "execute_result",
          "data": {
            "text/plain": [
              "'              precision    recall  f1-score   support\\n\\n           0       0.97      0.99      0.98    385309\\n           1       0.99      0.96      0.98    330112\\n           2       1.00      1.00      1.00       107\\n           3       0.81      0.95      0.88     18163\\n           4       0.00      0.00      0.00        14\\n\\n    accuracy                           0.98    733705\\n   macro avg       0.76      0.78      0.77    733705\\nweighted avg       0.98      0.98      0.98    733705\\n'"
            ],
            "application/vnd.google.colaboratory.intrinsic+json": {
              "type": "string"
            }
          },
          "metadata": {},
          "execution_count": 48
        }
      ]
    },
    {
      "cell_type": "code",
      "source": [
        "# confusion_matrix(y_test,pred)\n",
        "cf_matrix = confusion_matrix(y_test,pred)\n",
        "print(cf_matrix)"
      ],
      "metadata": {
        "id": "EU7Kcb-7yKye",
        "colab": {
          "base_uri": "https://localhost:8080/"
        },
        "outputId": "cc275f26-519f-4e7b-9bf1-092fd0414524"
      },
      "execution_count": null,
      "outputs": [
        {
          "output_type": "stream",
          "name": "stdout",
          "text": [
            "[[379901   1570      0   3838      0]\n",
            " [ 11451 318487      0    174      0]\n",
            " [     0      0    107      0      0]\n",
            " [   404    431      0  17328      0]\n",
            " [     0     13      0      1      0]]\n"
          ]
        }
      ]
    },
    {
      "cell_type": "code",
      "source": [
        "import seaborn as sns\n",
        "sns.heatmap(cf_matrix, annot=True)"
      ],
      "metadata": {
        "colab": {
          "base_uri": "https://localhost:8080/",
          "height": 447
        },
        "id": "FETudTQQMELV",
        "outputId": "a8b999d3-2a30-4680-8069-72ebd71a40c5"
      },
      "execution_count": null,
      "outputs": [
        {
          "output_type": "execute_result",
          "data": {
            "text/plain": [
              "<Axes: >"
            ]
          },
          "metadata": {},
          "execution_count": 62
        },
        {
          "output_type": "display_data",
          "data": {
            "text/plain": [
              "<Figure size 640x480 with 2 Axes>"
            ],
            "image/png": "[encoded data removed]"
          },
          "metadata": {}
        }
      ]
    },
    {
      "cell_type": "code",
      "source": [
        "from sklearn.metrics import f1_score\n",
        "f1_score(y_test,pred,average='micro')"
      ],
      "metadata": {
        "id": "_1NVhC84yN2u",
        "colab": {
          "base_uri": "https://localhost:8080/"
        },
        "outputId": "065921af-6ada-45fc-c6be-2a84971bfa3e"
      },
      "execution_count": null,
      "outputs": [
        {
          "output_type": "execute_result",
          "data": {
            "text/plain": [
              "0.975627806816091"
            ]
          },
          "metadata": {},
          "execution_count": 50
        }
      ]
    },
    {
      "cell_type": "code",
      "source": [
        "from sklearn.metrics import recall_score\n",
        "recall_score(y_test, pred, average='micro')"
      ],
      "metadata": {
        "id": "nXkvW7CJyRVr",
        "colab": {
          "base_uri": "https://localhost:8080/"
        },
        "outputId": "d5defe63-2510-4482-c70a-a73599316e12"
      },
      "execution_count": null,
      "outputs": [
        {
          "output_type": "execute_result",
          "data": {
            "text/plain": [
              "0.975627806816091"
            ]
          },
          "metadata": {},
          "execution_count": 51
        }
      ]
    },
    {
      "cell_type": "code",
      "source": [
        "from sklearn.metrics import precision_score\n",
        "precision_score(y_test,pred, average='micro')"
      ],
      "metadata": {
        "id": "kxBole2VyUrs",
        "colab": {
          "base_uri": "https://localhost:8080/"
        },
        "outputId": "910508bc-5a2c-4e4b-a699-84a715de980a"
      },
      "execution_count": null,
      "outputs": [
        {
          "output_type": "execute_result",
          "data": {
            "text/plain": [
              "0.975627806816091"
            ]
          },
          "metadata": {},
          "execution_count": 52
        }
      ]
    },
    {
      "cell_type": "code",
      "source": [
        "y_test"
      ],
      "metadata": {
        "id": "Kh3qkosAyiZV",
        "colab": {
          "base_uri": "https://localhost:8080/"
        },
        "outputId": "d90cf6ca-d1ca-448c-e1e6-888f0002fe90"
      },
      "execution_count": null,
      "outputs": [
        {
          "output_type": "execute_result",
          "data": {
            "text/plain": [
              "0         1\n",
              "1         0\n",
              "2         0\n",
              "3         0\n",
              "4         1\n",
              "         ..\n",
              "733700    1\n",
              "733701    0\n",
              "733702    0\n",
              "733703    1\n",
              "733704    0\n",
              "Name: category_enc, Length: 733705, dtype: int64"
            ]
          },
          "metadata": {},
          "execution_count": 53
        }
      ]
    },
    {
      "cell_type": "code",
      "source": [
        "y_pred_proba=logisticRegr.predict_proba(data_test)"
      ],
      "metadata": {
        "id": "DC1BjX0sykoM"
      },
      "execution_count": null,
      "outputs": []
    },
    {
      "cell_type": "code",
      "source": [
        "from sklearn.metrics import classification_report,confusion_matrix\n",
        "prediction = logisticRegr.predict(data_test)\n",
        "print(classification_report(y_test,prediction))"
      ],
      "metadata": {
        "id": "8M-Gcl_3yoBo",
        "colab": {
          "base_uri": "https://localhost:8080/"
        },
        "outputId": "228af768-9ee1-433f-8b16-3dd3c6f3124b"
      },
      "execution_count": null,
      "outputs": [
        {
          "output_type": "stream",
          "name": "stdout",
          "text": [
            "              precision    recall  f1-score   support\n",
            "\n",
            "           0       0.97      0.99      0.98    385309\n",
            "           1       0.99      0.96      0.98    330112\n",
            "           2       1.00      1.00      1.00       107\n",
            "           3       0.81      0.95      0.88     18163\n",
            "           4       0.00      0.00      0.00        14\n",
            "\n",
            "    accuracy                           0.98    733705\n",
            "   macro avg       0.76      0.78      0.77    733705\n",
            "weighted avg       0.98      0.98      0.98    733705\n",
            "\n"
          ]
        }
      ]
    },
    {
      "cell_type": "code",
      "source": [
        "from sklearn.metrics import f1_score\n",
        "import matplotlib.pyplot as plt\n",
        "from itertools import cycle\n",
        "\n",
        "plt.figure(figsize=(7, 8))\n",
        "f_scores = np.linspace(0.2, 0.8, num=4)\n",
        "lines = []\n",
        "labels = []\n",
        "for f1_score in f_scores:\n",
        "    x = np.linspace(0.01, 1)\n",
        "    y = f1_score * x / (2 * x - f1_score)\n",
        "    l, = plt.plot(x[y >= 0], y[y >= 0], color='gray', alpha=0.2)\n",
        "    plt.annotate('f1={0:0.1f}'.format(f1_score), xy=(0.9, y[45] + 0.02))\n",
        "lines.append(l)\n",
        "labels.append('iso-f1 curves')\n",
        "plt.show()"
      ],
      "metadata": {
        "id": "JMQnG8Xxyq5h",
        "colab": {
          "base_uri": "https://localhost:8080/",
          "height": 676
        },
        "outputId": "9803f61f-5259-41ff-c2d4-9b631a09786e"
      },
      "execution_count": null,
      "outputs": [
        {
          "output_type": "display_data",
          "data": {
            "text/plain": [
              "<Figure size 700x800 with 1 Axes>"
            ],
            "image/png": "[encoded data removed]"
          },
          "metadata": {}
        }
      ]
    },
    {
      "cell_type": "code",
      "source": [
        "from sklearn.linear_model import LogisticRegression\n",
        "lr2 = LogisticRegression(penalty='l2',C = 25, solver = 'lbfgs',max_iter=1000,n_jobs=100)\n",
        "from sklearn.model_selection import cross_val_score\n",
        "scores = cross_val_score(lr2, Xres1, yres1, cv=10)\n",
        "scores"
      ],
      "metadata": {
        "id": "ikTIwrm-yuXi",
        "colab": {
          "base_uri": "https://localhost:8080/"
        },
        "outputId": "31e28401-d927-4886-f512-120ee34d8376"
      },
      "execution_count": null,
      "outputs": [
        {
          "output_type": "execute_result",
          "data": {
            "text/plain": [
              "array([0.98604635, 0.98656061, 0.98676632, 0.98741772, 0.98666347,\n",
              "       0.9868006 , 0.987143  , 0.98686872, 0.98594302, 0.98721157])"
            ]
          },
          "metadata": {},
          "execution_count": 57
        }
      ]
    },
    {
      "cell_type": "code",
      "source": [
        "scores.mean()"
      ],
      "metadata": {
        "id": "8rYfLDV3y4R2",
        "colab": {
          "base_uri": "https://localhost:8080/"
        },
        "outputId": "c7cad622-f617-4834-b62d-98a037b3066e"
      },
      "execution_count": null,
      "outputs": [
        {
          "output_type": "execute_result",
          "data": {
            "text/plain": [
              "0.9867421392152979"
            ]
          },
          "metadata": {},
          "execution_count": 58
        }
      ]
    },
    {
      "cell_type": "code",
      "source": [
        "import time\n",
        "start = time.time()\n",
        "lr2.fit (Xres1,yres1)\n",
        "prediction= lr2.predict(data_test)\n",
        "score = lr2.score(data_test, y_test)\n",
        "end = time.time()\n",
        "print(end - start, \"seconds\\n\")\n",
        "score"
      ],
      "metadata": {
        "id": "fl6IWCyxy8HZ",
        "colab": {
          "base_uri": "https://localhost:8080/"
        },
        "outputId": "573ad6d2-5349-4316-e4dd-f6da43dead0f"
      },
      "execution_count": null,
      "outputs": [
        {
          "output_type": "stream",
          "name": "stdout",
          "text": [
            "61.23114013671875 seconds\n",
            "\n"
          ]
        },
        {
          "output_type": "execute_result",
          "data": {
            "text/plain": [
              "0.9859602973947295"
            ]
          },
          "metadata": {},
          "execution_count": 59
        }
      ]
    }
  ]
}